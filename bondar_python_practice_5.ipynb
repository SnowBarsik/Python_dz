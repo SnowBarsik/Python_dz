{
  "cells": [
    {
      "cell_type": "markdown",
      "metadata": {
        "id": "5qV_sehzFCTp"
      },
      "source": [
        "# I. OOP"
      ]
    },
    {
      "cell_type": "markdown",
      "metadata": {
        "id": "tx_U_hOALyfg"
      },
      "source": [
        "1. (6б). Створіть клас Building, додайте три атрибути, один з яких має значення за замовчуванням та два методи на свій розсуд."
      ]
    },
    {
      "cell_type": "code",
      "execution_count": null,
      "metadata": {
        "id": "-Vf895KaL88N"
      },
      "outputs": [],
      "source": [
        "class Building:\n",
        "    def __init__(self, rooms, adress, hight=1):\n",
        "      self.hight = hight\n",
        "      self.rooms = rooms if rooms > 0 else 0\n",
        "      self.adress = adress\n",
        "      return None\n",
        "\n",
        "    def add_floors(self, hight_difference, rooms_difference=0):\n",
        "      self.hight += hight_difference if hight_difference > 0 else 0\n",
        "      self.rooms += rooms_difference if rooms_difference > 0 else 0\n",
        "      return None\n",
        "\n",
        "    def remove_floors(self, hight_difference, rooms_difference=0):\n",
        "      if(not (hight_difference < 0 or rooms_difference < 0)):\n",
        "        self.hight = self.hight - hight_difference if self.hight - hight_difference > 0 else 0\n",
        "        self.rooms = self.rooms - rooms_difference if self.rooms - rooms_difference > 0 else 0\n",
        "      return None"
      ]
    },
    {
      "cell_type": "markdown",
      "metadata": {
        "id": "X_UlOMB0L93w"
      },
      "source": [
        "2. (2б). Створіть два обʼєкти цього класу, де один з обʼєктів створюється із дефолтним значенням атрибуту. На одному обʼєкті отримайте значення його атрибуту, а на іншому викличте один з його методів."
      ]
    },
    {
      "cell_type": "code",
      "execution_count": null,
      "metadata": {
        "colab": {
          "base_uri": "https://localhost:8080/"
        },
        "id": "7gBu0ESOMCpG",
        "outputId": "87942261-cbf0-4765-f0fb-f9dddb8d0ec4"
      },
      "outputs": [
        {
          "name": "stdout",
          "output_type": "stream",
          "text": [
            "1\n",
            "90 9\n",
            "70 7\n"
          ]
        }
      ],
      "source": [
        "living_building = Building(90, \"Shevchenska str. 9\", 9)\n",
        "small_house = Building(5, \"Peremohy str. 6\")\n",
        "print(small_house.hight)\n",
        "\n",
        "print(living_building.rooms, living_building.hight)\n",
        "living_building.remove_floors(2, 20)\n",
        "print(living_building.rooms, living_building.hight)"
      ]
    },
    {
      "cell_type": "markdown",
      "metadata": {
        "id": "HoqSCZt1MHn5"
      },
      "source": [
        "3. (5б). Створіть клас, де атрибути мають різні рівні доступу. Спробуйте отримати їхні значення та опишіть результати."
      ]
    },
    {
      "cell_type": "code",
      "execution_count": null,
      "metadata": {
        "colab": {
          "base_uri": "https://localhost:8080/"
        },
        "id": "r9b3vJxBMSPV",
        "outputId": "374f062a-2d54-426c-8123-7a61ef52fa61"
      },
      "outputs": [
        {
          "name": "stdout",
          "output_type": "stream",
          "text": [
            "meow\n",
            "MmEEOOWw\n",
            "piiii\n"
          ]
        }
      ],
      "source": [
        "class Sound:\n",
        "  def __init__(self, normal, lowered, hight_waved):\n",
        "    self.normal = normal\n",
        "    self._low = lowered\n",
        "    self.__hight = hight_waved\n",
        "    return None\n",
        "\n",
        "\n",
        "meow = Sound(\"meow\", \"MmEEOOWw\", \"piiii\")\n",
        "print(meow.normal) #just normaly get\n",
        "print(meow._low) #normaly get because protected isn`t actualy work - its conception\n",
        "#print(meow.__hight) #can`t get - program pretended its not here\n",
        "print(meow._Sound__hight) #but its here"
      ]
    },
    {
      "cell_type": "markdown",
      "metadata": {
        "id": "5op2m2vgMSkZ"
      },
      "source": [
        "4. (7б). Як ви розумієте термін self? Для чого використовується метод __init __?"
      ]
    },
    {
      "cell_type": "markdown",
      "metadata": {
        "id": "DyiPqNRvMasx"
      },
      "source": [
        "Вказівник на створений об'єкт.\n",
        "Для ініціалізації(визначення атрибутів) після створення"
      ]
    },
    {
      "cell_type": "markdown",
      "metadata": {
        "id": "-6X8EGfjMd2y"
      },
      "source": [
        "5. (9б). Створіть клас 3D-фігура без атрибутів, з методом get_volume для отримання об'єму фігури, що повертає 0 та __add __, який приймає self та other в якості аргументів, а повертає суму об'ємів 3d-фігур self та other."
      ]
    },
    {
      "cell_type": "code",
      "execution_count": null,
      "metadata": {
        "id": "4rvO_wYUMaEr"
      },
      "outputs": [],
      "source": [
        "class Figure3D:\n",
        "  def __add__(self, other):\n",
        "    return self.get_volume() + other.get_volume()\n",
        "\n",
        "  def get_volume(self):\n",
        "    return 0"
      ]
    },
    {
      "cell_type": "markdown",
      "metadata": {
        "id": "SFcKnnv5Mo_z"
      },
      "source": [
        "6. (11б). Створіть 2 дочірніх класи від 3d-фігура: Циліндр та Куб, які мають атрибути, необхідні для розрахунку об'єму. Визначте метод get_volume в кожному з них так, щоби вони розраховували об'єм у залежності від формули для кожного типу фігури. Створіть обʼєкт класу Циліндр та обʼєкт класу Куб. Виконайте операцію суми за допомогою оператора + між ними, аби знайти сумарний об'єм."
      ]
    },
    {
      "cell_type": "code",
      "execution_count": null,
      "metadata": {
        "colab": {
          "base_uri": "https://localhost:8080/"
        },
        "id": "H3GVNr69Muf3",
        "outputId": "10a6eb3c-2697-402f-cedf-c9ed299bea46"
      },
      "outputs": [
        {
          "data": {
            "text/plain": [
              "1028.2743338823082"
            ]
          },
          "execution_count": 8,
          "metadata": {},
          "output_type": "execute_result"
        }
      ],
      "source": [
        "import math\n",
        "\n",
        "class Cilinder(Figure3D):\n",
        "  def __init__(self, h, r):\n",
        "    if(h<0): h = -h\n",
        "    if(r<0): r = -r\n",
        "    self.h = h\n",
        "    self.r = r\n",
        "    return None\n",
        "\n",
        "  def get_volume(self):\n",
        "    return self.h * math.pi * self.r ** 2\n",
        "    return None\n",
        "\n",
        "\n",
        "class Cube(Figure3D):\n",
        "  def __init__(self, s):\n",
        "    if(s<0): s = -s\n",
        "    self.s = s\n",
        "    return None\n",
        "\n",
        "  def get_volume(self):\n",
        "    return self.s ** 3\n",
        "\n",
        "\n",
        "small_cilinder = Cilinder(1, 3)\n",
        "big_cube = Cube(10)\n",
        "\n",
        "big_cube+small_cilinder"
      ]
    },
    {
      "cell_type": "markdown",
      "metadata": {
        "id": "HCvR206YMvLK"
      },
      "source": [
        "7. (3б). Продемонструйте різницю між isinstance та issubclass."
      ]
    },
    {
      "cell_type": "code",
      "execution_count": null,
      "metadata": {
        "colab": {
          "base_uri": "https://localhost:8080/"
        },
        "id": "L_V1bBvDM0GN",
        "outputId": "5e82ee31-b65f-4350-824e-0f473c67eea3"
      },
      "outputs": [
        {
          "name": "stdout",
          "output_type": "stream",
          "text": [
            "True True False\n",
            "False\n",
            "True True False\n"
          ]
        }
      ],
      "source": [
        "print(isinstance(big_cube, Figure3D), isinstance(big_cube, Cube), isinstance(big_cube, Cilinder)) #check object\n",
        "print(isinstance(Cube, Figure3D)) #class isn`t checking right\n",
        "print(issubclass(Cube, Figure3D), issubclass(Cube, Cube), issubclass(Figure3D, Cube)) #check class"
      ]
    },
    {
      "cell_type": "markdown",
      "metadata": {
        "id": "jjsaBZ-iM0Qq"
      },
      "source": [
        "8. (13б). Створіть клас EWallet з приватними атрибутами balance та id. Реалізуйте методи поповнення та зняття коштів, забезпечивши належну інкапсуляцію. Підказка: використовуйте декоратори property та setter."
      ]
    },
    {
      "cell_type": "code",
      "execution_count": null,
      "metadata": {
        "colab": {
          "base_uri": "https://localhost:8080/"
        },
        "id": "xCvZ7lh8M7YA",
        "outputId": "ef0a01f3-9caf-4512-9ce9-55bdf43fd38e"
      },
      "outputs": [
        {
          "name": "stdout",
          "output_type": "stream",
          "text": [
            "200\n",
            "100\n"
          ]
        }
      ],
      "source": [
        "class EWallet:\n",
        "  def __init__(self, balance, id):\n",
        "    self.__balance = balance\n",
        "    self.__id = id\n",
        "    return None\n",
        "\n",
        "  @property\n",
        "  def balance(self):\n",
        "    return self.__balance\n",
        "\n",
        "  @balance.setter\n",
        "  def __balance__(self, new_balance):\n",
        "  #my desicion for balance can`t be changed outside - made setter private\n",
        "    self.__balance = new_balance\n",
        "    return None\n",
        "\n",
        "  def add_money(self, money):\n",
        "    if(money>0): self.__balance__ = self.balance + money\n",
        "    return None\n",
        "\n",
        "  def take_money(self, money):\n",
        "    if(money>0 and self.balance>money): self.__balance__ = self.balance - money\n",
        "    elif(self.balance<=money): self.__balance__ = 0\n",
        "    return None\n",
        "\n",
        "\n",
        "wal = EWallet(200, 1)\n",
        "print(wal.balance)\n",
        "wal.take_money(100)\n",
        "print(wal.balance)"
      ]
    },
    {
      "cell_type": "markdown",
      "metadata": {
        "id": "tIzL2SJTM8ft"
      },
      "source": [
        "9. (11б). Створіть клас ShoppingCart, який містить список об'єктів типу Item. Реалізуйте методи для додавання айтемів, їх видалення та відображення списку айтемів."
      ]
    },
    {
      "cell_type": "code",
      "execution_count": 1,
      "metadata": {
        "id": "HWxfJKLtNAUZ"
      },
      "outputs": [],
      "source": [
        "from typing import Set\n",
        "from typing import Sequence\n",
        "\n",
        "class Item:\n",
        "  def __init__(self, name, cost):\n",
        "    self.name = name\n",
        "    self.cost = cost if isinstance(cost, int) or isinstance(cost, float) else 0\n",
        "\n",
        "  def __eq__(self, other):\n",
        "      assert isinstance(other, Item)\n",
        "      return self.name == other.name and self.cost == self.cost\n",
        "\n",
        "  def __hash__(self):\n",
        "    return object.__hash__(self)\n",
        "\n",
        "\n",
        "\n",
        "class ShoppingCart:\n",
        "  def __init__(self, item_list):\n",
        "    if(isinstance(item_list, Sequence)):\n",
        "      self.__item_list = list(filter(lambda x: isinstance(x, Item), item_list[:]))\n",
        "    elif(isinstance(item_list, Set)):\n",
        "      list_of_items = [x if isinstance(x, Item) else None for x in item_list]\n",
        "      self.__item_list = list(filter(lambda x: x is not None, list_of_items[:]))\n",
        "    else:\n",
        "      self.__item_list = []\n",
        "    return None\n",
        "\n",
        "  def add_item(self, item):\n",
        "    if(isinstance(item, Item)): self.__item_list.append(item)\n",
        "    return None\n",
        "\n",
        "  def remove_item(self, item):\n",
        "    if(item in self.__item_list): self.__item_list.remove(item)\n",
        "    return None\n",
        "\n",
        "  def print_item_list(self):\n",
        "    for item in self.__item_list:\n",
        "      print(f\"{item.name} {item.cost}$\")\n",
        "    return None"
      ]
    },
    {
      "cell_type": "markdown",
      "metadata": {
        "id": "lmV8pAwwNIqu"
      },
      "source": [
        "10. (13б). Створіть клас Vehicle з атрибутами brand (manufacturer) та production_age. Створіть ще один клас Engine з такими атрибутами, як type (ex. petrol) та size (volume, litres). Створіть клас Car, який успадковує обидва класи Vehicle та Engine. Продемонструйте використання множинної спадковості, створивши обʼєкт класу Car та отримавши mro для цього класу."
      ]
    },
    {
      "cell_type": "code",
      "execution_count": null,
      "metadata": {
        "id": "R49grKlWNPeN"
      },
      "outputs": [],
      "source": []
    },
    {
      "cell_type": "markdown",
      "metadata": {
        "id": "dIJyUiNBFG8G"
      },
      "source": [
        "# II. Iterator"
      ]
    },
    {
      "cell_type": "markdown",
      "metadata": {
        "id": "13vsm0NyKIzL"
      },
      "source": [
        "11. (4б). Визначте рядок(str) з 4ма різними за значенням символами. Створіть ітератор на основі цього рядка. Викличте 5 разів функцію next на ітераторі, 4ри перших з них огорніть у ф-цію print()."
      ]
    },
    {
      "cell_type": "code",
      "execution_count": null,
      "metadata": {
        "id": "81ntabAkKuz-"
      },
      "outputs": [],
      "source": []
    },
    {
      "cell_type": "markdown",
      "metadata": {
        "id": "aekWHGXOLRsO"
      },
      "source": [
        "А що якщо викликати цю ж функцію на рядку?"
      ]
    },
    {
      "cell_type": "code",
      "execution_count": null,
      "metadata": {
        "id": "mxATGsErLV1i"
      },
      "outputs": [],
      "source": []
    },
    {
      "cell_type": "markdown",
      "metadata": {
        "id": "XwtMEopwJ4pH"
      },
      "source": [
        " 12. (5б). Опишіть своїми словами в одному реченні, як ви розумієте різницю між ітерабельними обʼєктами та ітераторами (можна на прикладі)."
      ]
    },
    {
      "cell_type": "markdown",
      "metadata": {
        "id": "-sHrODc3KFn8"
      },
      "source": [
        "*місце для відповіді"
      ]
    },
    {
      "cell_type": "markdown",
      "metadata": {
        "id": "E9qJWmNbK8Gl"
      },
      "source": [
        "13. (11б). Створіть клас, що має визначений Iterator Protocol та при кожному виклику next повертає назву дня тижня, поки вони не вичерпаються. Зверніть увагу, що порядок має значення."
      ]
    },
    {
      "cell_type": "code",
      "execution_count": null,
      "metadata": {
        "id": "cqx-g_RsLo6I"
      },
      "outputs": [],
      "source": []
    },
    {
      "cell_type": "markdown",
      "metadata": {
        "id": "Z3E3S_s1Fv7-"
      },
      "source": [
        "# Вітаю! Ви велика(ий) молодець, що впоралась(вся). Похваліть себе та побалуйте чимось приємним. Я Вами пишаюся."
      ]
    }
  ],
  "metadata": {
    "colab": {
      "provenance": []
    },
    "kernelspec": {
      "display_name": "Python 3",
      "name": "python3"
    },
    "language_info": {
      "codemirror_mode": {
        "name": "ipython",
        "version": 3
      },
      "file_extension": ".py",
      "mimetype": "text/x-python",
      "name": "python",
      "nbconvert_exporter": "python",
      "pygments_lexer": "ipython3",
      "version": "3.12.3"
    }
  },
  "nbformat": 4,
  "nbformat_minor": 0
}

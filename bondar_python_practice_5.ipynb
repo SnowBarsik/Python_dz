{
  "nbformat": 4,
  "nbformat_minor": 0,
  "metadata": {
    "colab": {
      "provenance": []
    },
    "kernelspec": {
      "name": "python3",
      "display_name": "Python 3"
    },
    "language_info": {
      "name": "python"
    }
  },
  "cells": [
    {
      "cell_type": "markdown",
      "source": [
        "# I. OOP"
      ],
      "metadata": {
        "id": "5qV_sehzFCTp"
      }
    },
    {
      "cell_type": "markdown",
      "source": [
        "1. (6б). Створіть клас Building, додайте три атрибути, один з яких має значення за замовчуванням та два методи на свій розсуд."
      ],
      "metadata": {
        "id": "tx_U_hOALyfg"
      }
    },
    {
      "cell_type": "code",
      "source": [
        "class Building:\n",
        "    def __init__(self, rooms, adress, hight=1):\n",
        "      self.hight = hight\n",
        "      self.rooms = rooms if rooms > 0 else 0\n",
        "      self.adress = adress\n",
        "      return None\n",
        "\n",
        "    def add_floors(self, hight_difference, rooms_difference=1):\n",
        "      if(not (hight_difference < 0 or rooms_difference < 0)):\n",
        "        self.hight += hight_difference if hight_difference > 0 else 0\n",
        "        self.rooms += rooms_difference if rooms_difference > 0 else 0\n",
        "      return None\n",
        "\n",
        "    def remove_floors(self, hight_difference, rooms_difference=1):\n",
        "      if(not (hight_difference < 0 or rooms_difference < 0)):\n",
        "        new_h = self.hight - hight_difference\n",
        "        new_r = self.rooms - rooms_difference\n",
        "        self.hight = new_h if new_h > 0 else 0\n",
        "        self.rooms = new_r if new_r > 0 else 0\n",
        "      return None"
      ],
      "metadata": {
        "id": "-Vf895KaL88N"
      },
      "execution_count": 2,
      "outputs": []
    },
    {
      "cell_type": "markdown",
      "source": [
        "2. (2б). Створіть два обʼєкти цього класу, де один з обʼєктів створюється із дефолтним значенням атрибуту. На одному обʼєкті отримайте значення його атрибуту, а на іншому викличте один з його методів."
      ],
      "metadata": {
        "id": "X_UlOMB0L93w"
      }
    },
    {
      "cell_type": "code",
      "source": [
        "living_building = Building(90, \"Shevchenska str. 9\", 9)\n",
        "small_house = Building(5, \"Peremohy str. 6\")\n",
        "print(small_house.hight)\n",
        "\n",
        "print(living_building.rooms, living_building.hight)\n",
        "living_building.remove_floors(2, 20)\n",
        "print(living_building.rooms, living_building.hight)"
      ],
      "metadata": {
        "id": "7gBu0ESOMCpG",
        "colab": {
          "base_uri": "https://localhost:8080/"
        },
        "outputId": "5c7abca7-858a-4140-a2c5-f298ef5f340c"
      },
      "execution_count": 3,
      "outputs": [
        {
          "output_type": "stream",
          "name": "stdout",
          "text": [
            "1\n",
            "90 9\n",
            "70 7\n"
          ]
        }
      ]
    },
    {
      "cell_type": "markdown",
      "source": [
        "3. (5б). Створіть клас, де атрибути мають різні рівні доступу. Спробуйте отримати їхні значення та опишіть результати."
      ],
      "metadata": {
        "id": "HoqSCZt1MHn5"
      }
    },
    {
      "cell_type": "code",
      "source": [
        "class Sound:\n",
        "  def __init__(self, normal, lowered, hight_waved):\n",
        "    self.normal = normal\n",
        "    self._low = lowered\n",
        "    self.__hight = hight_waved\n",
        "    return None\n",
        "\n",
        "\n",
        "meow = Sound(\"meow\", \"MmEEOOWw\", \"mi\")\n",
        "print(meow.normal) #just normaly get\n",
        "print(meow._low) #normaly get because protected isn`t actualy work - its conception\n",
        "#print(meow.__hight) #can`t get - program pretended its not here\n",
        "print(meow._Sound__hight) #but its here"
      ],
      "metadata": {
        "id": "r9b3vJxBMSPV",
        "colab": {
          "base_uri": "https://localhost:8080/"
        },
        "outputId": "de1eabd9-0777-449b-83dc-062f6420d0e1"
      },
      "execution_count": 5,
      "outputs": [
        {
          "output_type": "stream",
          "name": "stdout",
          "text": [
            "meow\n",
            "MmEEOOWw\n",
            "mi\n"
          ]
        }
      ]
    },
    {
      "cell_type": "markdown",
      "source": [
        "4. (7б). Як ви розумієте термін self? Для чого використовується метод __init __?"
      ],
      "metadata": {
        "id": "5op2m2vgMSkZ"
      }
    },
    {
      "cell_type": "markdown",
      "source": [
        "Вказівник на створений об'єкт.\n",
        "Для ініціалізації(визначення атрибутів) після створення"
      ],
      "metadata": {
        "id": "DyiPqNRvMasx"
      }
    },
    {
      "cell_type": "markdown",
      "source": [
        "5. (9б). Створіть клас 3D-фігура без атрибутів, з методом get_volume для отримання об'єму фігури, що повертає 0 та __add __, який приймає self та other в якості аргументів, а повертає суму об'ємів 3d-фігур self та other."
      ],
      "metadata": {
        "id": "-6X8EGfjMd2y"
      }
    },
    {
      "cell_type": "code",
      "source": [
        "class Figure3D:\n",
        "  def __add__(self, other):\n",
        "    return self.get_volume() + other.get_volume()\n",
        "\n",
        "  def get_volume(self):\n",
        "    return 0"
      ],
      "metadata": {
        "id": "4rvO_wYUMaEr"
      },
      "execution_count": 6,
      "outputs": []
    },
    {
      "cell_type": "markdown",
      "source": [
        "6. (11б). Створіть 2 дочірніх класи від 3d-фігура: Циліндр та Куб, які мають атрибути, необхідні для розрахунку об'єму. Визначте метод get_volume в кожному з них так, щоби вони розраховували об'єм у залежності від формули для кожного типу фігури. Створіть обʼєкт класу Циліндр та обʼєкт класу Куб. Виконайте операцію суми за допомогою оператора + між ними, аби знайти сумарний об'єм."
      ],
      "metadata": {
        "id": "SFcKnnv5Mo_z"
      }
    },
    {
      "cell_type": "code",
      "source": [
        "import math\n",
        "\n",
        "class Cylinder(Figure3D):\n",
        "  def __init__(self, h, r):\n",
        "    if(h<0): h = -h\n",
        "    if(r<0): r = -r\n",
        "    self.h = h\n",
        "    self.r = r\n",
        "    return None\n",
        "\n",
        "  def get_volume(self):\n",
        "    return self.h * math.pi * self.r ** 2\n",
        "\n",
        "\n",
        "class Cube(Figure3D):\n",
        "  def __init__(self, s):\n",
        "    if(s<0): s = -s\n",
        "    self.s = s\n",
        "    return None\n",
        "\n",
        "  def get_volume(self):\n",
        "    return self.s ** 3\n",
        "\n",
        "\n",
        "small_cylinder = Cylinder(1, 3)\n",
        "big_cube = Cube(10)\n",
        "\n",
        "big_cube+small_cylinder"
      ],
      "metadata": {
        "id": "H3GVNr69Muf3",
        "colab": {
          "base_uri": "https://localhost:8080/"
        },
        "outputId": "50609230-41dd-40b7-f61d-f8d14bfd8cd3"
      },
      "execution_count": 12,
      "outputs": [
        {
          "output_type": "execute_result",
          "data": {
            "text/plain": [
              "1028.2743338823082"
            ]
          },
          "metadata": {},
          "execution_count": 12
        }
      ]
    },
    {
      "cell_type": "markdown",
      "source": [
        "7. (3б). Продемонструйте різницю між isinstance та issubclass."
      ],
      "metadata": {
        "id": "HCvR206YMvLK"
      }
    },
    {
      "cell_type": "code",
      "source": [
        "print(isinstance(big_cube, Figure3D), isinstance(big_cube, Cube), isinstance(big_cube, Cilinder)) #check object\n",
        "print(isinstance(Cube, Figure3D)) #class isn`t checking right\n",
        "print(issubclass(Cube, Figure3D), issubclass(Cube, Cube), issubclass(Figure3D, Cube)) #check class"
      ],
      "metadata": {
        "id": "L_V1bBvDM0GN",
        "colab": {
          "base_uri": "https://localhost:8080/"
        },
        "outputId": "c8077690-4834-4a2c-d43c-a04c53fbabaa"
      },
      "execution_count": 13,
      "outputs": [
        {
          "output_type": "stream",
          "name": "stdout",
          "text": [
            "True True False\n",
            "False\n",
            "True True False\n"
          ]
        }
      ]
    },
    {
      "cell_type": "markdown",
      "source": [
        "8. (13б). Створіть клас EWallet з приватними атрибутами balance та id. Реалізуйте методи поповнення та зняття коштів, забезпечивши належну інкапсуляцію. Підказка: використовуйте декоратори property та setter."
      ],
      "metadata": {
        "id": "jjsaBZ-iM0Qq"
      }
    },
    {
      "cell_type": "code",
      "source": [
        "class EWallet:\n",
        "  def __init__(self, balance, id):\n",
        "    self.__balance = balance\n",
        "    self.__id = id\n",
        "    return None\n",
        "\n",
        "  @property\n",
        "  def balance(self):\n",
        "    return self.__balance\n",
        "\n",
        "  @balance.setter\n",
        "  def __balance__(self, new_balance):\n",
        "  #my decision for balance can`t be changed outside - make setter private\n",
        "    self.__balance = new_balance\n",
        "    return None\n",
        "\n",
        "  def add_money(self, money):\n",
        "    if(money>0): self.__balance__ = self.balance + money\n",
        "    return None\n",
        "\n",
        "  def take_money(self, money):\n",
        "    if(money>0 and self.balance>money): self.__balance__ = self.balance - money\n",
        "    elif(self.balance<=money): self.__balance__ = 0\n",
        "    return None\n",
        "\n",
        "\n",
        "wal = EWallet(200, 1)\n",
        "print(wal.balance)\n",
        "wal.take_money(100)\n",
        "print(wal.balance)"
      ],
      "metadata": {
        "id": "xCvZ7lh8M7YA",
        "colab": {
          "base_uri": "https://localhost:8080/"
        },
        "outputId": "b52dc8e1-d573-44ff-844a-f42d3b434fbf"
      },
      "execution_count": 14,
      "outputs": [
        {
          "output_type": "stream",
          "name": "stdout",
          "text": [
            "200\n",
            "100\n"
          ]
        }
      ]
    },
    {
      "cell_type": "markdown",
      "source": [
        "9. (11б). Створіть клас ShoppingCart, який містить список об'єктів типу Item. Реалізуйте методи для додавання айтемів, їх видалення та відображення списку айтемів."
      ],
      "metadata": {
        "id": "tIzL2SJTM8ft"
      }
    },
    {
      "cell_type": "code",
      "source": [
        "from typing import Set\n",
        "from typing import Sequence\n",
        "\n",
        "class Item:\n",
        "  def __init__(self, name, cost):\n",
        "    self.name = name\n",
        "    if(isinstance(cost, int) or isinstance(cost, float)):\n",
        "      self.cost = cost\n",
        "      if(cost<0):\n",
        "        self.cost = -cost\n",
        "    else: self.cost = 0\n",
        "\n",
        "  def __eq__(self, other):\n",
        "    assert isinstance(other, Item)\n",
        "    return self.name == other.name and self.cost == other.cost\n",
        "\n",
        "  def __hash__(self):\n",
        "    return object.__hash__(self)\n",
        "\n",
        "\n",
        "\n",
        "class ShoppingCart:\n",
        "  def __init__(self, item_list):\n",
        "    if(isinstance(item_list, Sequence)):\n",
        "      self.__item_list = list(filter(lambda x: isinstance(x, Item), item_list[:]))\n",
        "    elif(isinstance(item_list, Set)):\n",
        "      list_of_items = [x if isinstance(x, Item) else None for x in item_list]\n",
        "      self.__item_list = list(filter(lambda x: x is not None, list_of_items[:]))\n",
        "    else:\n",
        "      self.__item_list = []\n",
        "    return None\n",
        "\n",
        "  def add_item(self, item):\n",
        "    if(isinstance(item, Item)): self.__item_list.append(item)\n",
        "    return None\n",
        "\n",
        "  def remove_item(self, item):\n",
        "    if(item in self.__item_list): self.__item_list.remove(item)\n",
        "    return None\n",
        "\n",
        "  def print_item_list(self):\n",
        "    for item in self.__item_list:\n",
        "      print(f\"{item.name} {item.cost}$\")\n",
        "    return None"
      ],
      "metadata": {
        "id": "HWxfJKLtNAUZ"
      },
      "execution_count": 59,
      "outputs": []
    },
    {
      "cell_type": "markdown",
      "source": [
        "10. (13б). Створіть клас Vehicle з атрибутами brand (manufacturer) та production_age. Створіть ще один клас Engine з такими атрибутами, як type (ex. petrol) та size (volume, litres). Створіть клас Car, який успадковує обидва класи Vehicle та Engine. Продемонструйте використання множинної спадковості, створивши обʼєкт класу Car та отримавши mro для цього класу."
      ],
      "metadata": {
        "id": "lmV8pAwwNIqu"
      }
    },
    {
      "cell_type": "code",
      "source": [
        "class Vehicle:\n",
        "   def __init__(self, brand, production_age=0):\n",
        "    self.brand = brand\n",
        "    if(isinstance(production_age, int) and production_age>-1):\n",
        "      self.production_age = production_age\n",
        "    else: self.production_age = 0\n",
        "    return None\n",
        "\n",
        "\n",
        "class Engine:\n",
        "   def __init__(self, e_type, size=5):\n",
        "    self.e_type = e_type\n",
        "    if((isinstance(size, int) or isinstance(size, float)) and size>-1):\n",
        "      self.size = size\n",
        "    else: self.size = 5\n",
        "    return None\n",
        "\n",
        "\n",
        "class Car(Vehicle, Engine):\n",
        "  pass\n",
        "\n",
        "car = Car(\"opel\")\n",
        "print(car.brand, car.production_age)\n",
        "\"\"\"\n",
        "print(car.e_type)\n",
        "print(car.size)\n",
        "#has no attribute 'e_type' or 'size'\n",
        "because init is taken only by Vehicle but not Engine\n",
        "\"\"\"\n",
        "Car.mro()"
      ],
      "metadata": {
        "id": "R49grKlWNPeN",
        "colab": {
          "base_uri": "https://localhost:8080/"
        },
        "outputId": "4f2146b9-ef4b-497f-ffa2-c32e8cecff81"
      },
      "execution_count": 52,
      "outputs": [
        {
          "output_type": "stream",
          "name": "stdout",
          "text": [
            "opel 0\n"
          ]
        },
        {
          "output_type": "execute_result",
          "data": {
            "text/plain": [
              "[__main__.Car, __main__.Vehicle, __main__.Engine, object]"
            ]
          },
          "metadata": {},
          "execution_count": 52
        }
      ]
    },
    {
      "cell_type": "markdown",
      "source": [
        "# II. Iterator"
      ],
      "metadata": {
        "id": "dIJyUiNBFG8G"
      }
    },
    {
      "cell_type": "markdown",
      "source": [
        "11. (4б). Визначте рядок(str) з 4ма різними за значенням символами. Створіть ітератор на основі цього рядка. Викличте 5 разів функцію next на ітераторі, 4ри перших з них огорніть у ф-цію print()."
      ],
      "metadata": {
        "id": "13vsm0NyKIzL"
      }
    },
    {
      "cell_type": "code",
      "source": [
        "s = \"a8jt\"\n",
        "i = iter(s)\n",
        "for _ in range(0, 4):\n",
        "  print(next(i))\n",
        "next(i)"
      ],
      "metadata": {
        "id": "81ntabAkKuz-",
        "colab": {
          "base_uri": "https://localhost:8080/",
          "height": 245
        },
        "outputId": "458325ca-1a01-4673-e80a-3470109039b3"
      },
      "execution_count": 53,
      "outputs": [
        {
          "output_type": "stream",
          "name": "stdout",
          "text": [
            "a\n",
            "8\n",
            "j\n",
            "t\n"
          ]
        },
        {
          "output_type": "error",
          "ename": "StopIteration",
          "evalue": "",
          "traceback": [
            "\u001b[0;31m---------------------------------------------------------------------------\u001b[0m",
            "\u001b[0;31mStopIteration\u001b[0m                             Traceback (most recent call last)",
            "\u001b[0;32m<ipython-input-53-0924984b7382>\u001b[0m in \u001b[0;36m<cell line: 0>\u001b[0;34m()\u001b[0m\n\u001b[1;32m      3\u001b[0m \u001b[0;32mfor\u001b[0m \u001b[0m_\u001b[0m \u001b[0;32min\u001b[0m \u001b[0mrange\u001b[0m\u001b[0;34m(\u001b[0m\u001b[0;36m0\u001b[0m\u001b[0;34m,\u001b[0m \u001b[0;36m4\u001b[0m\u001b[0;34m)\u001b[0m\u001b[0;34m:\u001b[0m\u001b[0;34m\u001b[0m\u001b[0;34m\u001b[0m\u001b[0m\n\u001b[1;32m      4\u001b[0m   \u001b[0mprint\u001b[0m\u001b[0;34m(\u001b[0m\u001b[0mnext\u001b[0m\u001b[0;34m(\u001b[0m\u001b[0mi\u001b[0m\u001b[0;34m)\u001b[0m\u001b[0;34m)\u001b[0m\u001b[0;34m\u001b[0m\u001b[0;34m\u001b[0m\u001b[0m\n\u001b[0;32m----> 5\u001b[0;31m \u001b[0mnext\u001b[0m\u001b[0;34m(\u001b[0m\u001b[0mi\u001b[0m\u001b[0;34m)\u001b[0m\u001b[0;34m\u001b[0m\u001b[0;34m\u001b[0m\u001b[0m\n\u001b[0m",
            "\u001b[0;31mStopIteration\u001b[0m: "
          ]
        }
      ]
    },
    {
      "cell_type": "markdown",
      "source": [
        "А що якщо викликати цю ж функцію на рядку?"
      ],
      "metadata": {
        "id": "aekWHGXOLRsO"
      }
    },
    {
      "cell_type": "code",
      "source": [
        "next(s)"
      ],
      "metadata": {
        "id": "mxATGsErLV1i",
        "colab": {
          "base_uri": "https://localhost:8080/",
          "height": 141
        },
        "outputId": "3e957ad6-96ff-4356-ab1b-f462f00bd571"
      },
      "execution_count": 54,
      "outputs": [
        {
          "output_type": "error",
          "ename": "TypeError",
          "evalue": "'str' object is not an iterator",
          "traceback": [
            "\u001b[0;31m---------------------------------------------------------------------------\u001b[0m",
            "\u001b[0;31mTypeError\u001b[0m                                 Traceback (most recent call last)",
            "\u001b[0;32m<ipython-input-54-61c30b5fe1d5>\u001b[0m in \u001b[0;36m<cell line: 0>\u001b[0;34m()\u001b[0m\n\u001b[0;32m----> 1\u001b[0;31m \u001b[0mnext\u001b[0m\u001b[0;34m(\u001b[0m\u001b[0ms\u001b[0m\u001b[0;34m)\u001b[0m\u001b[0;34m\u001b[0m\u001b[0;34m\u001b[0m\u001b[0m\n\u001b[0m",
            "\u001b[0;31mTypeError\u001b[0m: 'str' object is not an iterator"
          ]
        }
      ]
    },
    {
      "cell_type": "markdown",
      "source": [
        " 12. (5б). Опишіть своїми словами в одному реченні, як ви розумієте різницю між ітерабельними обʼєктами та ітераторами (можна на прикладі)."
      ],
      "metadata": {
        "id": "XwtMEopwJ4pH"
      }
    },
    {
      "cell_type": "markdown",
      "source": [
        "Об'єкт по якому можна пройтись лінійно, та об'єкт, який дає можливість пройтись по якомусь ітерабельному об'єкту."
      ],
      "metadata": {
        "id": "-sHrODc3KFn8"
      }
    },
    {
      "cell_type": "markdown",
      "source": [
        "13. (11б). Створіть клас, що має визначений Iterator Protocol та при кожному виклику next повертає назву дня тижня, поки вони не вичерпаються. Зверніть увагу, що порядок має значення."
      ],
      "metadata": {
        "id": "E9qJWmNbK8Gl"
      }
    },
    {
      "cell_type": "code",
      "source": [
        "class Week:\n",
        "  days = [\n",
        "      \"monday\",\n",
        "      \"tuesday\",\n",
        "      \"wednesday\",\n",
        "      \"thursday\",\n",
        "      \"friday\",\n",
        "      \"saturday\",\n",
        "      \"sunday\"\n",
        "  ]\n",
        "\n",
        "  def __init__(self):\n",
        "    return None\n",
        "\n",
        "  def __iter__(self):\n",
        "    return iter(self.days)\n",
        "\n",
        "\n",
        "week = Week()\n",
        "i = iter(week)\n",
        "for _ in range(0,7):\n",
        "  print(next(i))"
      ],
      "metadata": {
        "id": "cqx-g_RsLo6I",
        "colab": {
          "base_uri": "https://localhost:8080/"
        },
        "outputId": "1aacad9d-2343-4585-fc5e-cc537fc0196b"
      },
      "execution_count": 58,
      "outputs": [
        {
          "output_type": "stream",
          "name": "stdout",
          "text": [
            "monday\n",
            "tuesday\n",
            "wednesday\n",
            "thursday\n",
            "friday\n",
            "saturday\n",
            "sunday\n"
          ]
        }
      ]
    },
    {
      "cell_type": "markdown",
      "source": [
        "# Вітаю! Ви велика(ий) молодець, що впоралась(вся). Похваліть себе та побалуйте чимось приємним. Я Вами пишаюся."
      ],
      "metadata": {
        "id": "Z3E3S_s1Fv7-"
      }
    }
  ]
}
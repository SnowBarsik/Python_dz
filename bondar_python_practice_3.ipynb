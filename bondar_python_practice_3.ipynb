{
  "cells": [
    {
      "cell_type": "markdown",
      "metadata": {
        "id": "qDEi2Pi-4yUC"
      },
      "source": [
        "# I. Оператори порівняння та логічні оператори. Умови."
      ]
    },
    {
      "cell_type": "markdown",
      "metadata": {
        "id": "3v8D4Dkm43Ua"
      },
      "source": [
        "1. (5б) Створіть цілочисленну змінну зі своїм щасливим або улюбленим числом. Напишіть код, який би автоматизовував наступну задачу.\n",
        "\n",
        "Якщо число парне, помножте його на 2 та виведіть результат на екран.\n",
        "\n",
        "Але якщо число непарне, помножте його на 3 та додайте 1 і виведіть на екран."
      ]
    },
    {
      "cell_type": "code",
      "execution_count": 11,
      "metadata": {
        "colab": {
          "base_uri": "https://localhost:8080/"
        },
        "id": "dlVjc-Nu4bmb",
        "outputId": "9871a14a-c605-4670-9376-821292879eea"
      },
      "outputs": [
        {
          "name": "stdout",
          "output_type": "stream",
          "text": [
            "58\n"
          ]
        }
      ],
      "source": [
        "lucky_num = 19\n",
        "if(lucky_num%2==0): print(2*lucky_num)\n",
        "else: print(3*lucky_num+1)"
      ]
    },
    {
      "cell_type": "markdown",
      "metadata": {
        "id": "H669P0QK5BI_"
      },
      "source": [
        "2. (9б) Створіть змінну, що посилається на список. Якщо список пустий, додайте будь-який елемент у кінець списку. Якщо ж ні, то нічого не робіть."
      ]
    },
    {
      "cell_type": "code",
      "execution_count": 10,
      "metadata": {
        "colab": {
          "base_uri": "https://localhost:8080/"
        },
        "id": "ecWlfra45f6E",
        "outputId": "fc276f9a-83fe-40f6-a15c-74df9efa7b38"
      },
      "outputs": [
        {
          "name": "stdout",
          "output_type": "stream",
          "text": [
            "[2]\n"
          ]
        }
      ],
      "source": [
        "list_empty = []\n",
        "if(list_empty==[]): list_empty.append(2)\n",
        "print(list_empty)"
      ]
    },
    {
      "cell_type": "markdown",
      "metadata": {
        "id": "h9Y3cMUd5h85"
      },
      "source": [
        "3. (13б) Створіть рядок зі своїм імʼям латинкою. Напишіть код, який би автоматизовував наступну задачу.\n",
        "\n",
        "Якщо в імені є літера \"а\"\n",
        " або \"i\", Виведіть на екран повідомлення \"A or I is in the name\".\n",
        "\n",
        "\n",
        "\n",
        "Якщо в імені є літери \"o\" та \"n\", Виведіть на екран повідомлення \"O and N is in the name\".\n",
        "\n",
        "Також якщо в імені немає літери \"о\", але є \"n\", Виведіть на екран повідомлення \"Only N is in the name\".\n",
        "\n",
        "В решті випадків виведіть на екран повідомлення \"There is no N in the name, but there might be O\".\n",
        "\n",
        "Зверніть увагу, що, наприклад, для імені \"Antonina\" буде виведено два повідомлення."
      ]
    },
    {
      "cell_type": "code",
      "execution_count": 9,
      "metadata": {
        "colab": {
          "base_uri": "https://localhost:8080/"
        },
        "id": "bUH4LUx35u52",
        "outputId": "bef6cd0d-3d60-46c2-f710-3d507c50013b"
      },
      "outputs": [
        {
          "name": "stdout",
          "output_type": "stream",
          "text": [
            "A or I is in the name\n",
            "Only N is in the name\n"
          ]
        }
      ],
      "source": [
        "name = \"Kateryna\"\n",
        "\n",
        "have_a_or_i = False\n",
        "have_o = False\n",
        "have_n = False\n",
        "\n",
        "for s in name: #idk how to find needed char existence in another way :)\n",
        "  if(s == 'a' or s == 'i'): have_a_or_i = True\n",
        "  if(s == 'n'): have_n = True\n",
        "  if(s == 'o'): have_o = True #hope it wasn`t too long for this task\n",
        "\n",
        "if(have_a_or_i): print( \"A or I is in the name\")\n",
        "if(have_n):\n",
        "  if(have_o): print(\"O and N is in the name\")\n",
        "  else: print(\"Only N is in the name\")\n",
        "else: print(\"There is no N in the name, but there might be O\")"
      ]
    },
    {
      "cell_type": "markdown",
      "metadata": {
        "id": "wPCXJv4354cU"
      },
      "source": [
        "# II. Comprehensions."
      ]
    },
    {
      "cell_type": "markdown",
      "metadata": {
        "id": "jULLW5jN55Pw"
      },
      "source": [
        "4. (5б) Створіть список, використовуючи if (не if-else), range та comprehension."
      ]
    },
    {
      "cell_type": "code",
      "execution_count": 8,
      "metadata": {
        "colab": {
          "base_uri": "https://localhost:8080/"
        },
        "id": "mlZalnVC6W3F",
        "outputId": "2c40ea9e-2ed4-4b57-eb97-698c77bd358a"
      },
      "outputs": [
        {
          "data": {
            "text/plain": [
              "[5, 10, 15, 20, 25, 30, 35, 40, 45, 50, 55, 60, 65, 70, 75, 80, 85, 90, 95]"
            ]
          },
          "execution_count": 8,
          "metadata": {},
          "output_type": "execute_result"
        }
      ],
      "source": [
        "compr_list = [x for x in range(1, 100) if x % 5 == 0]\n",
        "compr_list"
      ]
    },
    {
      "cell_type": "markdown",
      "metadata": {
        "id": "LqhEQ4JW6XcC"
      },
      "source": [
        "5. (9б) Створіть словник, використовуючи dict comprehension, що містить if else. Коли слід використовувати comprehensions, а коли їх слід уникати?"
      ]
    },
    {
      "cell_type": "code",
      "execution_count": 7,
      "metadata": {
        "colab": {
          "base_uri": "https://localhost:8080/"
        },
        "id": "1yVaFbOs6hta",
        "outputId": "6cd5c7fd-8f98-457c-8bd3-f2cb0abe6284"
      },
      "outputs": [
        {
          "data": {
            "text/plain": [
              "{0: 'even',\n",
              " 1: 'odd',\n",
              " 2: 'even',\n",
              " 3: 'odd',\n",
              " 4: 'even',\n",
              " 5: 'odd',\n",
              " 6: 'even',\n",
              " 7: 'odd',\n",
              " 8: 'even',\n",
              " 9: 'odd',\n",
              " 10: 'even'}"
            ]
          },
          "execution_count": 7,
          "metadata": {},
          "output_type": "execute_result"
        }
      ],
      "source": [
        "compr_dict={x:\"even\" if(x%2==0) else \"odd\" for x in range(0,11)}\n",
        "compr_dict"
      ]
    },
    {
      "cell_type": "markdown",
      "metadata": {
        "id": "wbkzNhKq6hzz"
      },
      "source": [
        "Слід використовувати - коли створюємо новий екземпляр або трансформуємо його і при цьому код вийде коротшим та зрозумілим.\n",
        "\n",
        "\n",
        "Слід уникати - коли маємо більш ніж один цикл чи складний або довгий вираз - це буде складніше розуміти аніж без comprehension."
      ]
    },
    {
      "cell_type": "markdown",
      "metadata": {
        "id": "ZlqB8G3G6lHP"
      },
      "source": [
        "6. (9б) Створіть список з рядками та запишіть його у змінну. Створіть ще один список на основі попереднього, де кожен рядок буде містити тільки три перших заглавних символи. Наприклад: ['hello', 'i', 'dont', 'care'] -> ['HEL', 'I', 'DON', 'CAR']. Використання comprehensions обовʼязкове."
      ]
    },
    {
      "cell_type": "code",
      "execution_count": 3,
      "metadata": {
        "colab": {
          "base_uri": "https://localhost:8080/"
        },
        "id": "nw6rz0bR60VC",
        "outputId": "ad209f4c-df6d-4849-daf2-aedbb778bbca"
      },
      "outputs": [
        {
          "data": {
            "text/plain": [
              "['HEL', 'I', 'DON', 'CAR']"
            ]
          },
          "execution_count": 3,
          "metadata": {},
          "output_type": "execute_result"
        }
      ],
      "source": [
        "list_str =  ['hello', 'i', 'dont', 'care']\n",
        "list_str_copy = list(x.upper() if(len(x)<3) else x[:3].upper() for x in list_str)\n",
        "list_str_copy"
      ]
    },
    {
      "cell_type": "markdown",
      "metadata": {
        "id": "Tj573IAH64Fz"
      },
      "source": [
        "# III. Цикли."
      ]
    },
    {
      "cell_type": "markdown",
      "metadata": {
        "id": "tN_33xdE65H5"
      },
      "source": [
        "7. (5б) Продемонструйте роботу циклу while. Не можна використовувати True для запуску циклу, щоб уникнути безкінечного циклу!"
      ]
    },
    {
      "cell_type": "code",
      "execution_count": 12,
      "metadata": {
        "colab": {
          "base_uri": "https://localhost:8080/"
        },
        "id": "Kd9FO6yG63P5",
        "outputId": "270da4e5-b104-4a21-d0df-8f98fac5f5c5"
      },
      "outputs": [
        {
          "name": "stdout",
          "output_type": "stream",
          "text": [
            "\n",
            "'0'    '0'    '0'    '0'    '0'\n",
            "     '0'    '0' '0'     '0'\n",
            "'0'    '0'    '0'    '0'    '0'\n",
            "\n",
            "'0'    '0'    '0'    '0'    '0'\n",
            "     '0'    '0' '0'     '0'\n",
            "'0'    '0'    '0'    '0'    '0'\n",
            "\n",
            "'0'    '0'    '0'    '0'    '0'\n",
            "     '0'    '0' '0'     '0'\n",
            "'0'    '0'    '0'    '0'    '0'\n",
            "\n",
            "'0'    '0'    '0'    '0'    '0'\n",
            "     '0'    '0' '0'     '0'\n",
            "'0'    '0'    '0'    '0'    '0'\n",
            "\n",
            "'0'    '0'    '0'    '0'    '0'\n"
          ]
        }
      ],
      "source": [
        "some_bool = True\n",
        "num = 8\n",
        "while some_bool:\n",
        "  if(num%2!=0): print(\"    \", \"'0'\", \"  \", \"'0' '0'\", \"   \", \"'0'\",)\n",
        "  else: print()\n",
        "  print(\"'0'\", \"  \", \"'0'\", \"  \", \"'0'\", \"  \", \"'0'\", \"  \", \"'0'\")\n",
        "  some_bool = bool(num)\n",
        "  num-=1"
      ]
    },
    {
      "cell_type": "markdown",
      "metadata": {
        "id": "x2CmfZO-7pW0"
      },
      "source": [
        "8. (5б) Напишіть програму, яка виведе на екран непарні числа в діапазоні від 0 до 20 включно."
      ]
    },
    {
      "cell_type": "code",
      "execution_count": 13,
      "metadata": {
        "colab": {
          "base_uri": "https://localhost:8080/"
        },
        "id": "aCSRYA6s7tkF",
        "outputId": "9a9c347d-8914-4f4f-8569-af2f68b96d73"
      },
      "outputs": [
        {
          "name": "stdout",
          "output_type": "stream",
          "text": [
            "1\n",
            "3\n",
            "5\n",
            "7\n",
            "9\n",
            "11\n",
            "13\n",
            "15\n",
            "17\n",
            "19\n"
          ]
        }
      ],
      "source": [
        "for num in range(1,21,2): #just using range, knowing every second number is odd and first is 1\n",
        "  print(num)"
      ]
    },
    {
      "cell_type": "markdown",
      "metadata": {
        "id": "MDWNocZD7t_B"
      },
      "source": [
        "9. (13б) Створіть список з елементами булевого типу або None. Використовуючи цикли, отримайте в результаті список з кортежами, де перший елемент кортежу - індекс(ціле число), а другий елемент - відповідне значення з першого списку.\n",
        "\n",
        "Наприклад, [True, True, None, False] -> [(0, True), (1, True), (2, None), (3, False)]"
      ]
    },
    {
      "cell_type": "code",
      "execution_count": 14,
      "metadata": {
        "colab": {
          "base_uri": "https://localhost:8080/"
        },
        "id": "0EUyjMdp7yfh",
        "outputId": "1be5bc32-9c21-41b8-d34e-80ead876ea04"
      },
      "outputs": [
        {
          "data": {
            "text/plain": [
              "[(0, True), (1, True), (2, None), (3, False)]"
            ]
          },
          "execution_count": 14,
          "metadata": {},
          "output_type": "execute_result"
        }
      ],
      "source": [
        "list_of_bool = [True, True, None, False]\n",
        "for num in range(0, len(list_of_bool)):\n",
        "  list_of_bool[num] = (num, list_of_bool[num]) #I just change an original list\n",
        "list_of_bool"
      ]
    },
    {
      "cell_type": "markdown",
      "metadata": {
        "id": "-6XUqlcG7zKs"
      },
      "source": [
        "10. (9б) Створіть словник, де ключі - назви книжок, а значення - їхня кількість у наявності в Вашій міні-бібліотеці. Бібліотека має містити щонайменше 6 книжок (6 пар значень у словнику) і щонайбільше 10 (пар значень). Використовуючи цикли, оновіть словник (не створюйте новий) так, щоби кількість книг у наявності збільшилося на 5 кожної книги. Наприклад,\n",
        "{'It': 3, 'Fault stars': 10, 'Bible': 17, 'Psychological romance': 4, 'Harry Potter': 13} -> {'It': 8, 'Fault stars': 15, 'Bible': 22, 'Psychological romance': 9, 'Harry Potter': 18}"
      ]
    },
    {
      "cell_type": "code",
      "execution_count": 15,
      "metadata": {
        "colab": {
          "base_uri": "https://localhost:8080/"
        },
        "id": "Ceoj9wwb791q",
        "outputId": "4f2517df-7b45-421a-d104-b67c96c5be4e"
      },
      "outputs": [
        {
          "name": "stdout",
          "output_type": "stream",
          "text": [
            "{'It': 8, 'Fault stars': 15, 'Bible': 22, 'Psychological romance': 9, 'Harry Potter': 11, 'C/C++': 7}\n"
          ]
        }
      ],
      "source": [
        "biblio = {'It': 3, 'Fault stars': 10, 'Bible': 17, 'Psychological romance': 4, 'Harry Potter': 6, 'C/C++': 2}\n",
        "if(len(biblio) > 10 or len(biblio) < 6): print(\"biblio have number of books lower than 6 or bigger then 10\")\n",
        "for book in biblio:\n",
        "  if(biblio[book]<0): print(\"Imposible to have number of any books lower then 0\")\n",
        "  biblio[book]+=5\n",
        "print(biblio)"
      ]
    },
    {
      "cell_type": "markdown",
      "metadata": {
        "id": "QLzyJM288AC7"
      },
      "source": [
        "11. (5б) Визначте цілочислену змінну n, що належить проміжку від 4 до 10 включно. Використовуючи цикли, виведіть в консоль наступний патерн.\n",
        "\n",
        "#\n",
        "##\n",
        "###\n",
        "####\n",
        "\n",
        "... #*n\n"
      ]
    },
    {
      "cell_type": "code",
      "execution_count": 16,
      "metadata": {
        "colab": {
          "base_uri": "https://localhost:8080/"
        },
        "id": "KOpng87s8Duz",
        "outputId": "44b00296-e630-4d82-df61-687a88494bc7"
      },
      "outputs": [
        {
          "name": "stdout",
          "output_type": "stream",
          "text": [
            "# \n",
            "\n",
            "# # \n",
            "\n",
            "# # # \n",
            "\n",
            "# # # # \n",
            "\n",
            "# # # # # \n",
            "\n",
            "# # # # # # \n",
            "\n",
            "# # # # # # # \n",
            "\n",
            "# # # # # # # # \n",
            "\n"
          ]
        }
      ],
      "source": [
        "from random import randint\n",
        "n = randint(4, 10)\n",
        "for num in range(1, n+1):\n",
        "  for i in range(1, num+1):\n",
        "    print(\"#\", end= ' ')\n",
        "  print()\n",
        "  print()"
      ]
    },
    {
      "cell_type": "markdown",
      "metadata": {
        "id": "_bd-bqAT8EHn"
      },
      "source": [
        "12. (13б) Гра \"Нумо вгадай\".\n",
        "Розробіть просту гру, де користувач має вгадати випадкове число від 1 до 100. Для генерації випадкового числа використовуйте функцію random.randint(a, b) (тут a та b включно). Для отримання числа з консолі використовуйте функцію input(), результат якої обовʼязково явно приведіть до типу int.\n",
        "\n",
        "Підказка: використовуйте цикл while та умови if-else, щоб повідомити користувачу піказки (напр. \"Більше\", \"Менше\") поки користувач не вгадає. По завершенню виведіть кількість спроб, які знадобилися для вгадування."
      ]
    },
    {
      "cell_type": "code",
      "execution_count": 2,
      "metadata": {
        "colab": {
          "base_uri": "https://localhost:8080/"
        },
        "id": "IK9nnxFK8Hkl",
        "outputId": "625d9cd0-9c1b-4db9-b156-383ab5fb0a1e"
      },
      "outputs": [
        {
          "name": "stdout",
          "output_type": "stream",
          "text": [
            "Bigger\n",
            "Bigger\n",
            "Lower\n",
            "Bigger\n",
            "Bigger\n",
            "Bigger\n",
            "You get it in 7 try\n"
          ]
        }
      ],
      "source": [
        "from random import randint\n",
        "n = randint(1, 100)\n",
        "user_num = 0\n",
        "iter = 0\n",
        "while(user_num!=n):\n",
        "  user_num = int(input(\"Get your number from 1 to 100: \"))\n",
        "  if(user_num>n): print(\"Lower\")\n",
        "  elif(user_num<n): print(\"Bigger\")\n",
        "  iter+=1\n",
        "print(f'You get it in {iter} try')"
      ]
    },
    {
      "cell_type": "markdown",
      "metadata": {
        "id": "PXoXWb7Z8IGi"
      },
      "source": [
        "# Вітаю! Ви велика(ий) молодець, що впоралась(вся). Похваліть себе та побалуйте чимось приємним. Я Вами пишаюся."
      ]
    }
  ],
  "metadata": {
    "colab": {
      "provenance": []
    },
    "kernelspec": {
      "display_name": "Python 3",
      "name": "python3"
    },
    "language_info": {
      "codemirror_mode": {
        "name": "ipython",
        "version": 3
      },
      "file_extension": ".py",
      "mimetype": "text/x-python",
      "name": "python",
      "nbconvert_exporter": "python",
      "pygments_lexer": "ipython3",
      "version": "3.12.3"
    }
  },
  "nbformat": 4,
  "nbformat_minor": 0
}
